{
 "cells": [
  {
   "cell_type": "code",
   "execution_count": 6,
   "id": "33cbb840",
   "metadata": {},
   "outputs": [
    {
     "name": "stderr",
     "output_type": "stream",
     "text": [
      "Downloading...\n",
      "From: https://drive.google.com/uc?id=16_IoRl6EUCevWf4_l5orzRLjlnVG-WUd\n",
      "To: c:\\Users\\Cutiepatotie\\Desktop\\AIM\\Term 7 (electives)\\MLOPS\\72b86e078843edb3752c88bdd311e512da2f7d46f9f8aef109f4b9f55c54984d_Homework1\\data\\bronze\\ml2_student_performance.csv\n",
      "100%|██████████| 21.1k/21.1k [00:00<00:00, 1.09MB/s]\n"
     ]
    }
   ],
   "source": [
    "import gdown\n",
    "import pandas as pd\n",
    "\n",
    "file_id = '16_IoRl6EUCevWf4_l5orzRLjlnVG-WUd'\n",
    "url = f'https://drive.google.com/uc?id={file_id}'\n",
    "output = 'data/bronze/ml2_student_performance.csv'  \n",
    "\n",
    "gdown.download(url, output, quiet=False)\n",
    "\n",
    "df = pd.read_csv(output)"
   ]
  },
  {
   "cell_type": "code",
   "execution_count": null,
   "id": "f87eb28e",
   "metadata": {},
   "outputs": [],
   "source": []
  }
 ],
 "metadata": {
  "kernelspec": {
   "display_name": ".venv",
   "language": "python",
   "name": "python3"
  },
  "language_info": {
   "codemirror_mode": {
    "name": "ipython",
    "version": 3
   },
   "file_extension": ".py",
   "mimetype": "text/x-python",
   "name": "python",
   "nbconvert_exporter": "python",
   "pygments_lexer": "ipython3",
   "version": "3.13.5"
  }
 },
 "nbformat": 4,
 "nbformat_minor": 5
}
